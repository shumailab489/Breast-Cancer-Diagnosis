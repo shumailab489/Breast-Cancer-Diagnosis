{
 "cells": [
  {
   "cell_type": "code",
   "execution_count": 1,
   "id": "88b3ac12",
   "metadata": {
    "execution": {
     "iopub.execute_input": "2024-02-28T06:07:13.400293Z",
     "iopub.status.busy": "2024-02-28T06:07:13.399926Z",
     "iopub.status.idle": "2024-02-28T06:07:27.839704Z",
     "shell.execute_reply": "2024-02-28T06:07:27.838814Z"
    },
    "papermill": {
     "duration": 14.449367,
     "end_time": "2024-02-28T06:07:27.842279",
     "exception": false,
     "start_time": "2024-02-28T06:07:13.392912",
     "status": "completed"
    },
    "tags": []
   },
   "outputs": [
    {
     "name": "stderr",
     "output_type": "stream",
     "text": [
      "2024-02-28 06:07:16.147425: E external/local_xla/xla/stream_executor/cuda/cuda_dnn.cc:9261] Unable to register cuDNN factory: Attempting to register factory for plugin cuDNN when one has already been registered\n",
      "2024-02-28 06:07:16.147538: E external/local_xla/xla/stream_executor/cuda/cuda_fft.cc:607] Unable to register cuFFT factory: Attempting to register factory for plugin cuFFT when one has already been registered\n",
      "2024-02-28 06:07:16.304892: E external/local_xla/xla/stream_executor/cuda/cuda_blas.cc:1515] Unable to register cuBLAS factory: Attempting to register factory for plugin cuBLAS when one has already been registered\n"
     ]
    }
   ],
   "source": [
Importing Libraries and Create Directories
    "import numpy as np \n",
    "import pandas as pd \n",
    "import os\n",
    "import shutil\n",
    "import glob\n",
    "import random\n",
    "from tensorflow.keras.preprocessing.image import ImageDataGenerator\n",
    "import tensorflow as tf\n",
    "def create_data_path(base_path,input_path):\n",
    "    try:\n",
    "        os.makedirs(os.path.join(base_path,'training'))\n",
    "        os.makedirs(os.path.join(base_path, 'training/0'))\n",
    "        os.makedirs(os.path.join(base_path, 'training/1'))\n",
    "        os.makedirs(os.path.join(base_path,'validation'))\n",
    "        os.makedirs(os.path.join(base_path, 'validation/1'))\n",
    "        os.makedirs(os.path.join(base_path, 'validation/0'))\n",
    "    except:\n",
    "        print(\"the folders already exist\")\n",
    "    list_dir=glob.glob(os.path.join(input_path,'*'))\n",
    "    print(list_dir)\n",
    "    for id in list_dir:\n",
    "        list_file_0=glob.glob(os.path.join(id,'0/*'))\n",
    "        list_file_1= glob.glob(os.path.join(id, '1/*'))\n",
    "        for file_0 in list_file_0:\n",
    "            src_path = file_0\n",
    "            dst_path = os.path.join(os.path.join(base_path, 'training/0'), os.path.basename(file_0))\n",
    "            shutil.copy(src_path, dst_path)\n",
    "\n",
    "        for file_1 in list_file_1:\n",
    "            src_path = file_1\n",
    "            dst_path = os.path.join(os.path.join(base_path, 'training/1'), os.path.basename(file_1))\n",
    "            shutil.copy(src_path, dst_path)"
   ]
  },
  {
   "cell_type": "code",
   "execution_count": 2,
   "id": "e181f0ec",
   "metadata": {
    "execution": {
     "iopub.execute_input": "2024-02-28T06:07:27.855427Z",
     "iopub.status.busy": "2024-02-28T06:07:27.854848Z",
     "iopub.status.idle": "2024-02-28T06:07:27.860430Z",
     "shell.execute_reply": "2024-02-28T06:07:27.859569Z"
    },
    "papermill": {
     "duration": 0.014292,
     "end_time": "2024-02-28T06:07:27.862621",
     "exception": false,
     "start_time": "2024-02-28T06:07:27.848329",
     "status": "completed"
    },
    "tags": []
   },
   "outputs": [],
   "source": [
    "def remove_dir(base_path):\n",
    "    try:\n",
    "        shutil.rmtree(os.path.join(base_path,'training'))\n",
    "        shutil.rmtree(os.path.join(base_path,'validation'))\n",
    "    except Exception as e:\n",
    "        print(\"problem removing directories\")\n",
    "        print(str(e))"
   ]
  },
  {
   "cell_type": "code",
   "execution_count": 3,
   "id": "aa96a8f9",
   "metadata": {
    "execution": {
     "iopub.execute_input": "2024-02-28T06:07:27.874830Z",
     "iopub.status.busy": "2024-02-28T06:07:27.874561Z",
     "iopub.status.idle": "2024-02-28T06:07:27.879711Z",
     "shell.execute_reply": "2024-02-28T06:07:27.878685Z"
    },
    "papermill": {
     "duration": 0.013979,
     "end_time": "2024-02-28T06:07:27.882025",
     "exception": false,
     "start_time": "2024-02-28T06:07:27.868046",
     "status": "completed"
    },
    "tags": []
   },
   "outputs": [
    {
     "name": "stdout",
     "output_type": "stream",
     "text": [
      "problem removing directories\n",
      "[Errno 2] No such file or directory: '/kaggle/working/training'\n"
     ]
    }
   ],
   "source": [
    "#for cleanup\n",
    "remove_dir('/kaggle/working/')"
   ]
  },
  {
   "cell_type": "code",
   "execution_count": 4,
   "id": "f4a4615f",
   "metadata": {
    "execution": {
     "iopub.execute_input": "2024-02-28T06:07:27.894054Z",
     "iopub.status.busy": "2024-02-28T06:07:27.893755Z",
     "iopub.status.idle": "2024-02-28T06:39:31.058232Z",
     "shell.execute_reply": "2024-02-28T06:39:31.057225Z"
    },
    "papermill": {
     "duration": 1923.173639,
     "end_time": "2024-02-28T06:39:31.061028",
     "exception": false,
     "start_time": "2024-02-28T06:07:27.887389",
     "status": "completed"
    },
    "tags": []
   },
   "outputs": [
    {
     "name": "stdout",
     "output_type": "stream",
     "text": [
      "['/kaggle/input/breast-histopathology-images/10295', '/kaggle/input/breast-histopathology-images/10304', '/kaggle/input/breast-histopathology-images/12868', '/kaggle/input/breast-histopathology-images/10274', '/kaggle/input/breast-histopathology-images/12818', '/kaggle/input/breast-histopathology-images/14190', '/kaggle/input/breast-histopathology-images/12869', '/kaggle/input/breast-histopathology-images/9323', '/kaggle/input/breast-histopathology-images/10291', '/kaggle/input/breast-histopathology-images/12906', '/kaggle/input/breast-histopathology-images/9176', '/kaggle/input/breast-histopathology-images/8984', '/kaggle/input/breast-histopathology-images/10299', '/kaggle/input/breast-histopathology-images/12930', '/kaggle/input/breast-histopathology-images/9344', '/kaggle/input/breast-histopathology-images/12935', '/kaggle/input/breast-histopathology-images/12894', '/kaggle/input/breast-histopathology-images/12909', '/kaggle/input/breast-histopathology-images/9381', '/kaggle/input/breast-histopathology-images/9346', '/kaggle/input/breast-histopathology-images/9175', '/kaggle/input/breast-histopathology-images/10262', '/kaggle/input/breast-histopathology-images/8980', '/kaggle/input/breast-histopathology-images/16896', '/kaggle/input/breast-histopathology-images/12241', '/kaggle/input/breast-histopathology-images/12910', '/kaggle/input/breast-histopathology-images/13617', '/kaggle/input/breast-histopathology-images/13401', '/kaggle/input/breast-histopathology-images/12891', '/kaggle/input/breast-histopathology-images/10300', '/kaggle/input/breast-histopathology-images/9076', '/kaggle/input/breast-histopathology-images/10259', '/kaggle/input/breast-histopathology-images/9124', '/kaggle/input/breast-histopathology-images/13402', '/kaggle/input/breast-histopathology-images/12870', '/kaggle/input/breast-histopathology-images/16550', '/kaggle/input/breast-histopathology-images/10255', '/kaggle/input/breast-histopathology-images/9261', '/kaggle/input/breast-histopathology-images/15471', '/kaggle/input/breast-histopathology-images/12931', '/kaggle/input/breast-histopathology-images/12955', '/kaggle/input/breast-histopathology-images/10258', '/kaggle/input/breast-histopathology-images/13461', '/kaggle/input/breast-histopathology-images/13023', '/kaggle/input/breast-histopathology-images/9260', '/kaggle/input/breast-histopathology-images/8957', '/kaggle/input/breast-histopathology-images/9035', '/kaggle/input/breast-histopathology-images/10268', '/kaggle/input/breast-histopathology-images/13403', '/kaggle/input/breast-histopathology-images/10288', '/kaggle/input/breast-histopathology-images/9262', '/kaggle/input/breast-histopathology-images/12911', '/kaggle/input/breast-histopathology-images/9319', '/kaggle/input/breast-histopathology-images/10254', '/kaggle/input/breast-histopathology-images/13616', '/kaggle/input/breast-histopathology-images/10253', '/kaggle/input/breast-histopathology-images/8974', '/kaggle/input/breast-histopathology-images/9135', '/kaggle/input/breast-histopathology-images/10257', '/kaggle/input/breast-histopathology-images/9291', '/kaggle/input/breast-histopathology-images/9320', '/kaggle/input/breast-histopathology-images/14209', '/kaggle/input/breast-histopathology-images/14078', '/kaggle/input/breast-histopathology-images/12749', '/kaggle/input/breast-histopathology-images/9043', '/kaggle/input/breast-histopathology-images/9041', '/kaggle/input/breast-histopathology-images/8975', '/kaggle/input/breast-histopathology-images/9075', '/kaggle/input/breast-histopathology-images/13025', '/kaggle/input/breast-histopathology-images/13021', '/kaggle/input/breast-histopathology-images/13458', '/kaggle/input/breast-histopathology-images/12901', '/kaggle/input/breast-histopathology-images/16552', '/kaggle/input/breast-histopathology-images/13688', '/kaggle/input/breast-histopathology-images/15902', '/kaggle/input/breast-histopathology-images/13692', '/kaggle/input/breast-histopathology-images/12879', '/kaggle/input/breast-histopathology-images/9073', '/kaggle/input/breast-histopathology-images/15514', '/kaggle/input/breast-histopathology-images/9325', '/kaggle/input/breast-histopathology-images/10277', '/kaggle/input/breast-histopathology-images/12810', '/kaggle/input/breast-histopathology-images/8864', '/kaggle/input/breast-histopathology-images/8917', '/kaggle/input/breast-histopathology-images/14305', '/kaggle/input/breast-histopathology-images/16167', '/kaggle/input/breast-histopathology-images/13022', '/kaggle/input/breast-histopathology-images/16555', '/kaggle/input/breast-histopathology-images/12932', '/kaggle/input/breast-histopathology-images/14189', '/kaggle/input/breast-histopathology-images/8867', '/kaggle/input/breast-histopathology-images/16166', '/kaggle/input/breast-histopathology-images/10290', '/kaggle/input/breast-histopathology-images/9083', '/kaggle/input/breast-histopathology-images/15840', '/kaggle/input/breast-histopathology-images/12907', '/kaggle/input/breast-histopathology-images/12880', '/kaggle/input/breast-histopathology-images/12908', '/kaggle/input/breast-histopathology-images/13693', '/kaggle/input/breast-histopathology-images/13591', '/kaggle/input/breast-histopathology-images/15516', '/kaggle/input/breast-histopathology-images/9228', '/kaggle/input/breast-histopathology-images/14192', '/kaggle/input/breast-histopathology-images/12949', '/kaggle/input/breast-histopathology-images/10306', '/kaggle/input/breast-histopathology-images/9345', '/kaggle/input/breast-histopathology-images/14156', '/kaggle/input/breast-histopathology-images/12872', '/kaggle/input/breast-histopathology-images/9123', '/kaggle/input/breast-histopathology-images/13019', '/kaggle/input/breast-histopathology-images/9226', '/kaggle/input/breast-histopathology-images/14304', '/kaggle/input/breast-histopathology-images/10260', '/kaggle/input/breast-histopathology-images/14154', '/kaggle/input/breast-histopathology-images/15472', '/kaggle/input/breast-histopathology-images/15903', '/kaggle/input/breast-histopathology-images/12826', '/kaggle/input/breast-histopathology-images/13020', '/kaggle/input/breast-histopathology-images/16569', '/kaggle/input/breast-histopathology-images/14191', '/kaggle/input/breast-histopathology-images/16568', '/kaggle/input/breast-histopathology-images/16570', '/kaggle/input/breast-histopathology-images/13459', '/kaggle/input/breast-histopathology-images/8956', '/kaggle/input/breast-histopathology-images/13106', '/kaggle/input/breast-histopathology-images/10261', '/kaggle/input/breast-histopathology-images/9023', '/kaggle/input/breast-histopathology-images/13460', '/kaggle/input/breast-histopathology-images/16532', '/kaggle/input/breast-histopathology-images/12819', '/kaggle/input/breast-histopathology-images/12867', '/kaggle/input/breast-histopathology-images/8959', '/kaggle/input/breast-histopathology-images/9265', '/kaggle/input/breast-histopathology-images/9255', '/kaggle/input/breast-histopathology-images/14082', '/kaggle/input/breast-histopathology-images/12929', '/kaggle/input/breast-histopathology-images/8914', '/kaggle/input/breast-histopathology-images/9383', '/kaggle/input/breast-histopathology-images/14210', '/kaggle/input/breast-histopathology-images/10302', '/kaggle/input/breast-histopathology-images/12822', '/kaggle/input/breast-histopathology-images/10276', '/kaggle/input/breast-histopathology-images/10279', '/kaggle/input/breast-histopathology-images/12876', '/kaggle/input/breast-histopathology-images/10269', '/kaggle/input/breast-histopathology-images/8865', '/kaggle/input/breast-histopathology-images/13400', '/kaggle/input/breast-histopathology-images/12948', '/kaggle/input/breast-histopathology-images/12748', '/kaggle/input/breast-histopathology-images/9126', '/kaggle/input/breast-histopathology-images/9266', '/kaggle/input/breast-histopathology-images/9177', '/kaggle/input/breast-histopathology-images/8955', '/kaggle/input/breast-histopathology-images/12900', '/kaggle/input/breast-histopathology-images/9181', '/kaggle/input/breast-histopathology-images/9257', '/kaggle/input/breast-histopathology-images/9322', '/kaggle/input/breast-histopathology-images/12751', '/kaggle/input/breast-histopathology-images/9081', '/kaggle/input/breast-histopathology-images/15634', '/kaggle/input/breast-histopathology-images/10286', '/kaggle/input/breast-histopathology-images/14213', '/kaggle/input/breast-histopathology-images/9256', '/kaggle/input/breast-histopathology-images/10308', '/kaggle/input/breast-histopathology-images/16165', '/kaggle/input/breast-histopathology-images/12823', '/kaggle/input/breast-histopathology-images/9225', '/kaggle/input/breast-histopathology-images/9227', '/kaggle/input/breast-histopathology-images/16551', '/kaggle/input/breast-histopathology-images/13613', '/kaggle/input/breast-histopathology-images/14306', '/kaggle/input/breast-histopathology-images/16085', '/kaggle/input/breast-histopathology-images/16534', '/kaggle/input/breast-histopathology-images/14188', '/kaggle/input/breast-histopathology-images/14212', '/kaggle/input/breast-histopathology-images/12824', '/kaggle/input/breast-histopathology-images/16554', '/kaggle/input/breast-histopathology-images/13691', '/kaggle/input/breast-histopathology-images/13916', '/kaggle/input/breast-histopathology-images/12877', '/kaggle/input/breast-histopathology-images/13024', '/kaggle/input/breast-histopathology-images/10264', '/kaggle/input/breast-histopathology-images/12884', '/kaggle/input/breast-histopathology-images/12750', '/kaggle/input/breast-histopathology-images/14081', '/kaggle/input/breast-histopathology-images/15473', '/kaggle/input/breast-histopathology-images/15839', '/kaggle/input/breast-histopathology-images/12896', '/kaggle/input/breast-histopathology-images/9267', '/kaggle/input/breast-histopathology-images/10278', '/kaggle/input/breast-histopathology-images/16533', '/kaggle/input/breast-histopathology-images/13404', '/kaggle/input/breast-histopathology-images/12893', '/kaggle/input/breast-histopathology-images/12892', '/kaggle/input/breast-histopathology-images/9125', '/kaggle/input/breast-histopathology-images/9029', '/kaggle/input/breast-histopathology-images/14211', '/kaggle/input/breast-histopathology-images/12626', '/kaggle/input/breast-histopathology-images/10275', '/kaggle/input/breast-histopathology-images/9174', '/kaggle/input/breast-histopathology-images/9250', '/kaggle/input/breast-histopathology-images/15515', '/kaggle/input/breast-histopathology-images/9173', '/kaggle/input/breast-histopathology-images/12895', '/kaggle/input/breast-histopathology-images/12897', '/kaggle/input/breast-histopathology-images/12882', '/kaggle/input/breast-histopathology-images/12875', '/kaggle/input/breast-histopathology-images/12905', '/kaggle/input/breast-histopathology-images/13666', '/kaggle/input/breast-histopathology-images/15633', '/kaggle/input/breast-histopathology-images/8863', '/kaggle/input/breast-histopathology-images/12934', '/kaggle/input/breast-histopathology-images/12890', '/kaggle/input/breast-histopathology-images/10305', '/kaggle/input/breast-histopathology-images/9036', '/kaggle/input/breast-histopathology-images/12883', '/kaggle/input/breast-histopathology-images/10307', '/kaggle/input/breast-histopathology-images/14153', '/kaggle/input/breast-histopathology-images/16531', '/kaggle/input/breast-histopathology-images/15632', '/kaggle/input/breast-histopathology-images/12820', '/kaggle/input/breast-histopathology-images/10272', '/kaggle/input/breast-histopathology-images/12871', '/kaggle/input/breast-histopathology-images/9382', '/kaggle/input/breast-histopathology-images/10256', '/kaggle/input/breast-histopathology-images/9258', '/kaggle/input/breast-histopathology-images/16014', '/kaggle/input/breast-histopathology-images/16895', '/kaggle/input/breast-histopathology-images/13462', '/kaggle/input/breast-histopathology-images/14079', '/kaggle/input/breast-histopathology-images/12817', '/kaggle/input/breast-histopathology-images/8918', '/kaggle/input/breast-histopathology-images/8916', '/kaggle/input/breast-histopathology-images/15510', '/kaggle/input/breast-histopathology-images/12878', '/kaggle/input/breast-histopathology-images/12242', '/kaggle/input/breast-histopathology-images/14321', '/kaggle/input/breast-histopathology-images/9044', '/kaggle/input/breast-histopathology-images/9324', '/kaggle/input/breast-histopathology-images/12933', '/kaggle/input/breast-histopathology-images/8951', '/kaggle/input/breast-histopathology-images/10273', '/kaggle/input/breast-histopathology-images/12811', '/kaggle/input/breast-histopathology-images/9078', '/kaggle/input/breast-histopathology-images/14157', '/kaggle/input/breast-histopathology-images/10282', '/kaggle/input/breast-histopathology-images/9290', '/kaggle/input/breast-histopathology-images/13694', '/kaggle/input/breast-histopathology-images/9321', '/kaggle/input/breast-histopathology-images/8950', '/kaggle/input/breast-histopathology-images/15513', '/kaggle/input/breast-histopathology-images/10285', '/kaggle/input/breast-histopathology-images/9022', '/kaggle/input/breast-histopathology-images/16553', '/kaggle/input/breast-histopathology-images/8913', '/kaggle/input/breast-histopathology-images/13018', '/kaggle/input/breast-histopathology-images/12821', '/kaggle/input/breast-histopathology-images/12951', '/kaggle/input/breast-histopathology-images/12898', '/kaggle/input/breast-histopathology-images/13687', '/kaggle/input/breast-histopathology-images/9178', '/kaggle/input/breast-histopathology-images/13689', '/kaggle/input/breast-histopathology-images/12947', '/kaggle/input/breast-histopathology-images/15512', '/kaggle/input/breast-histopathology-images/10303', '/kaggle/input/breast-histopathology-images/12881', '/kaggle/input/breast-histopathology-images/12886', '/kaggle/input/breast-histopathology-images/12752', '/kaggle/input/breast-histopathology-images/9347', '/kaggle/input/breast-histopathology-images/10301', '/kaggle/input/breast-histopathology-images/IDC_regular_ps50_idx5', '/kaggle/input/breast-histopathology-images/9254', '/kaggle/input/breast-histopathology-images/10293', '/kaggle/input/breast-histopathology-images/12954', '/kaggle/input/breast-histopathology-images/9259', '/kaggle/input/breast-histopathology-images/14155', '/kaggle/input/breast-histopathology-images/9077', '/kaggle/input/breast-histopathology-images/10292', '/kaggle/input/breast-histopathology-images/9037', '/kaggle/input/breast-histopathology-images/12873']\n"
     ]
    }
   ],
   "source": [
    "create_data_path('/kaggle/working/','/kaggle/input/breast-histopathology-images/')"
   ]
  },
  {
   "cell_type": "code",
   "execution_count": 5,
   "id": "03f82fa0",
   "metadata": {
    "execution": {
     "iopub.execute_input": "2024-02-28T06:39:31.075728Z",
     "iopub.status.busy": "2024-02-28T06:39:31.075009Z",
     "iopub.status.idle": "2024-02-28T06:39:31.083514Z",
     "shell.execute_reply": "2024-02-28T06:39:31.082502Z"
    },
    "papermill": {
     "duration": 0.017903,
     "end_time": "2024-02-28T06:39:31.085599",
     "exception": false,
     "start_time": "2024-02-28T06:39:31.067696",
     "status": "completed"
    },
    "tags": []
   },
   "outputs": [],
   "source": [
    "def split_training_validation(base_path,split_size):\n",
    "    list_file_0=glob.glob(os.path.join(base_path,'training/0/*'))\n",
    "    list_file_1 = glob.glob(os.path.join(base_path, 'training/1/*'))\n",
    "    tot_file=list_file_1+list_file_0\n",
    "    random.shuffle(tot_file)\n",
    "    training_set=tot_file[0:int(len(tot_file)*split_size)]\n",
    "    validation_set=tot_file[int(len(tot_file)*split_size):]\n",
    "    for file in validation_set:\n",
    "        if file[-5]=='0':\n",
    "            dst_path = os.path.join(os.path.join(base_path, 'validation/0'), os.path.basename(file))\n",
    "            shutil.copy(file, dst_path)\n",
    "        elif file[-5]=='1':\n",
    "            dst_path = os.path.join(os.path.join(base_path, 'validation/1'), os.path.basename(file))\n",
    "            shutil.copy(file, dst_path)"
   ]
  },
  {
   "cell_type": "code",
   "execution_count": 6,
   "id": "47af44b5",
   "metadata": {
    "execution": {
     "iopub.execute_input": "2024-02-28T06:39:31.098791Z",
     "iopub.status.busy": "2024-02-28T06:39:31.098181Z",
     "iopub.status.idle": "2024-02-28T06:39:40.313016Z",
     "shell.execute_reply": "2024-02-28T06:39:40.311887Z"
    },
    "papermill": {
     "duration": 9.224269,
     "end_time": "2024-02-28T06:39:40.315628",
     "exception": false,
     "start_time": "2024-02-28T06:39:31.091359",
     "status": "completed"
    },
    "tags": []
   },
   "outputs": [],
   "source": [
    "training_split=0.8\n",
    "split_training_validation('/kaggle/working/',training_split)"
   ]
  },
  {
   "cell_type": "code",
   "execution_count": 7,
   "id": "8ac654ee",
   "metadata": {
    "execution": {
     "iopub.execute_input": "2024-02-28T06:39:40.328391Z",
     "iopub.status.busy": "2024-02-28T06:39:40.327982Z",
     "iopub.status.idle": "2024-02-28T06:39:40.335394Z",
     "shell.execute_reply": "2024-02-28T06:39:40.334455Z"
    },
    "papermill": {
     "duration": 0.016202,
     "end_time": "2024-02-28T06:39:40.337554",
     "exception": false,
     "start_time": "2024-02-28T06:39:40.321352",
     "status": "completed"
    },
    "tags": []
   },
   "outputs": [],
   "source": [
    "from tensorflow.keras.preprocessing.image import ImageDataGenerator\n",
    "def create_data_generator(base_path,target_size):\n",
    "    # All images will be rescaled by 1./255\n",
    "    train_datagen = ImageDataGenerator(rescale=1 / 255)\n",
    "    validation_datagen = ImageDataGenerator(rescale=1 / 255)\n",
    "\n",
    "    # Flow training images in batches of 64 using train_datagen generator\n",
    "    train_generator = train_datagen.flow_from_directory(\n",
    "        os.path.join(base_path,'training/'),  # This is the source directory for training images\n",
    "        target_size=target_size,  \n",
    "        batch_size=64,\n",
    "        # Since you use binary_crossentropy loss, you need binary labels\n",
    "        class_mode='binary')\n",
    "\n",
    "    # Flow validation images in batches of 64 using validation_datagen generator\n",
    "    validation_generator = validation_datagen.flow_from_directory(\n",
    "        os.path.join(base_path,'validation/'),  # This is the source directory for validation images\n",
    "        target_size=target_size,  \n",
    "        batch_size=64,\n",
    "        # Since you use binary_crossentropy loss, you need binary labels\n",
    "        class_mode='binary')\n",
    "    return train_generator,validation_generator"
   ]
  },
  {
   "cell_type": "code",
   "execution_count": 8,
   "id": "a08af907",
   "metadata": {
    "execution": {
     "iopub.execute_input": "2024-02-28T06:39:40.350354Z",
     "iopub.status.busy": "2024-02-28T06:39:40.349768Z",
     "iopub.status.idle": "2024-02-28T06:39:49.611019Z",
     "shell.execute_reply": "2024-02-28T06:39:49.610099Z"
    },
    "papermill": {
     "duration": 9.270384,
     "end_time": "2024-02-28T06:39:49.613679",
     "exception": false,
     "start_time": "2024-02-28T06:39:40.343295",
     "status": "completed"
    },
    "tags": []
   },
   "outputs": [
    {
     "name": "stdout",
     "output_type": "stream",
     "text": [
      "Found 277524 images belonging to 2 classes.\n",
      "Found 55505 images belonging to 2 classes.\n"
     ]
    }
   ],
   "source": [
    "train_generator,validation_generator=create_data_generator('/kaggle/working/',(50,50))"
   ]
  },
  {
   "cell_type": "code",
   "execution_count": 9,
   "id": "5dbaa55c",
   "metadata": {
    "execution": {
     "iopub.execute_input": "2024-02-28T06:39:49.628069Z",
     "iopub.status.busy": "2024-02-28T06:39:49.627707Z",
     "iopub.status.idle": "2024-02-28T06:39:49.634196Z",
     "shell.execute_reply": "2024-02-28T06:39:49.633341Z"
    },
    "papermill": {
     "duration": 0.016232,
     "end_time": "2024-02-28T06:39:49.636240",
     "exception": false,
     "start_time": "2024-02-28T06:39:49.620008",
     "status": "completed"
    },
    "tags": []
   },
   "outputs": [],
   "source": [
    "import tensorflow as tf\n",
    "class CustomCallback(tf.keras.callbacks.Callback):\n",
    "\n",
    "    def on_epoch_end(self, epoch, logs=None):\n",
    "        keys = list(logs.keys())\n",
    "        if (logs.get('val_accuracy') > 0.95):\n",
    "            print(\"\\nReached 95% accuracy so cancelling training!\")\n",
    "            self.model.stop_training = True"
   ]
  },
  {
   "cell_type": "code",
   "execution_count": 10,
   "id": "17eb580d",
   "metadata": {
    "execution": {
     "iopub.execute_input": "2024-02-28T06:39:49.649611Z",
     "iopub.status.busy": "2024-02-28T06:39:49.649341Z",
     "iopub.status.idle": "2024-02-28T06:39:49.657686Z",
     "shell.execute_reply": "2024-02-28T06:39:49.656819Z"
    },
    "papermill": {
     "duration": 0.017476,
     "end_time": "2024-02-28T06:39:49.659899",
     "exception": false,
     "start_time": "2024-02-28T06:39:49.642423",
     "status": "completed"
    },
    "tags": []
   },
   "outputs": [],
   "source": [
    "def create_model(input_shape):\n",
    "    model = tf.keras.models.Sequential([\n",
    "        # Note the input shape is the desired size of the image 50x50 with 3 bytes color\n",
    "        # This is the first convolution\n",
    "        tf.keras.layers.Conv2D(64, (3, 3), activation='relu', input_shape=input_shape),\n",
    "        tf.keras.layers.MaxPooling2D(2, 2),\n",
    "        # Flatten the results to feed into a DNN\n",
    "        tf.keras.layers.Flatten(),\n",
    "        # 512 neuron hidden layer\n",
    "        tf.keras.layers.Dense(128, activation='relu'),\n",
    "        tf.keras.layers.Dense(512, activation='relu'),\n",
    "        tf.keras.layers.Dropout(0.4),\n",
    "\n",
    "        # Only 1 output neuron. \n",
    "        tf.keras.layers.Dense(1, activation='sigmoid')\n",
    "    ])\n",
    "    my_cb=CustomCallback()\n",
    "    \n",
    "    reduce_lr=tf.keras.callbacks.ReduceLROnPlateau(monitor='val_loss',verbose=1)\n",
    "    \n",
    "    model_cp=tf.keras.callbacks.ModelCheckpoint('/kaggle/output',verbose=1)\n",
    "    model.compile(loss='binary_crossentropy',\n",
    "                  optimizer=tf.keras.optimizers.Adam(learning_rate=0.0001),\n",
    "                  metrics=['accuracy'])\n",
    "    return model,[reduce_lr,model_cp]"
   ]
  },
  {
   "cell_type": "code",
   "execution_count": 11,
   "id": "8de79895",
   "metadata": {
    "execution": {
     "iopub.execute_input": "2024-02-28T06:39:49.673048Z",
     "iopub.status.busy": "2024-02-28T06:39:49.672781Z",
     "iopub.status.idle": "2024-02-28T08:51:31.463064Z",
     "shell.execute_reply": "2024-02-28T08:51:31.462094Z"
    },
    "papermill": {
     "duration": 7910.856455,
     "end_time": "2024-02-28T08:51:40.522357",
     "exception": false,
     "start_time": "2024-02-28T06:39:49.665902",
     "status": "completed"
    },
    "tags": []
   },
   "outputs": [
    {
     "name": "stdout",
     "output_type": "stream",
     "text": [
      "Model: \"sequential\"\n",
      "_________________________________________________________________\n",
      " Layer (type)                Output Shape              Param #   \n",
      "=================================================================\n",
      " conv2d (Conv2D)             (None, 48, 48, 64)        1792      \n",
      "                                                                 \n",
      " max_pooling2d (MaxPooling2  (None, 24, 24, 64)        0         \n",
      " D)                                                              \n",
      "                                                                 \n",
      " flatten (Flatten)           (None, 36864)             0         \n",
      "                                                                 \n",
      " dense (Dense)               (None, 128)               4718720   \n",
      "                                                                 \n",
      " dense_1 (Dense)             (None, 512)               66048     \n",
      "                                                                 \n",
      " dropout (Dropout)           (None, 512)               0         \n",
      "                                                                 \n",
      " dense_2 (Dense)             (None, 1)                 513       \n",
      "                                                                 \n",
      "=================================================================\n",
      "Total params: 4787073 (18.26 MB)\n",
      "Trainable params: 4787073 (18.26 MB)\n",
      "Non-trainable params: 0 (0.00 Byte)\n",
      "_________________________________________________________________\n",
      "Epoch 1/50\n"
     ]
    },
    {
     "name": "stderr",
     "output_type": "stream",
     "text": [
      "WARNING: All log messages before absl::InitializeLog() is called are written to STDERR\n",
      "I0000 00:00:1709102395.182332      83 device_compiler.h:186] Compiled cluster using XLA!  This line is logged at most once for the lifetime of the process.\n"
     ]
    },
    {
     "name": "stdout",
     "output_type": "stream",
     "text": [
      "4336/4337 [============================>.] - ETA: 0s - loss: 0.3947 - accuracy: 0.8261\n",
      "Epoch 1: saving model to /kaggle/output\n",
      "4337/4337 [==============================] - 174s 39ms/step - loss: 0.3947 - accuracy: 0.8261 - val_loss: 0.3669 - val_accuracy: 0.8406 - lr: 1.0000e-04\n",
      "Epoch 2/50\n",
      "4336/4337 [============================>.] - ETA: 0s - loss: 0.3532 - accuracy: 0.8461\n",
      "Epoch 2: saving model to /kaggle/output\n",
      "4337/4337 [==============================] - 155s 36ms/step - loss: 0.3532 - accuracy: 0.8461 - val_loss: 0.3337 - val_accuracy: 0.8571 - lr: 1.0000e-04\n",
      "Epoch 3/50\n",
      "4337/4337 [==============================] - ETA: 0s - loss: 0.3351 - accuracy: 0.8553\n",
      "Epoch 3: saving model to /kaggle/output\n",
      "4337/4337 [==============================] - 153s 35ms/step - loss: 0.3351 - accuracy: 0.8553 - val_loss: 0.3374 - val_accuracy: 0.8584 - lr: 1.0000e-04\n",
      "Epoch 4/50\n",
      "4336/4337 [============================>.] - ETA: 0s - loss: 0.3225 - accuracy: 0.8614\n",
      "Epoch 4: saving model to /kaggle/output\n",
      "4337/4337 [==============================] - 152s 35ms/step - loss: 0.3225 - accuracy: 0.8614 - val_loss: 0.3107 - val_accuracy: 0.8658 - lr: 1.0000e-04\n",
      "Epoch 5/50\n",
      "4336/4337 [============================>.] - ETA: 0s - loss: 0.3093 - accuracy: 0.8676\n",
      "Epoch 5: saving model to /kaggle/output\n",
      "4337/4337 [==============================] - 153s 35ms/step - loss: 0.3093 - accuracy: 0.8676 - val_loss: 0.2930 - val_accuracy: 0.8751 - lr: 1.0000e-04\n",
      "Epoch 6/50\n",
      "4336/4337 [============================>.] - ETA: 0s - loss: 0.2947 - accuracy: 0.8743\n",
      "Epoch 6: saving model to /kaggle/output\n",
      "4337/4337 [==============================] - 154s 35ms/step - loss: 0.2947 - accuracy: 0.8743 - val_loss: 0.2779 - val_accuracy: 0.8840 - lr: 1.0000e-04\n",
      "Epoch 7/50\n",
      "4337/4337 [==============================] - ETA: 0s - loss: 0.2784 - accuracy: 0.8827\n",
      "Epoch 7: saving model to /kaggle/output\n",
      "4337/4337 [==============================] - 156s 36ms/step - loss: 0.2784 - accuracy: 0.8827 - val_loss: 0.2542 - val_accuracy: 0.8938 - lr: 1.0000e-04\n",
      "Epoch 8/50\n",
      "4336/4337 [============================>.] - ETA: 0s - loss: 0.2598 - accuracy: 0.8907\n",
      "Epoch 8: saving model to /kaggle/output\n",
      "4337/4337 [==============================] - 157s 36ms/step - loss: 0.2598 - accuracy: 0.8907 - val_loss: 0.2331 - val_accuracy: 0.9070 - lr: 1.0000e-04\n",
      "Epoch 9/50\n",
      "4337/4337 [==============================] - ETA: 0s - loss: 0.2401 - accuracy: 0.9002\n",
      "Epoch 9: saving model to /kaggle/output\n",
      "4337/4337 [==============================] - 154s 36ms/step - loss: 0.2401 - accuracy: 0.9002 - val_loss: 0.2134 - val_accuracy: 0.9134 - lr: 1.0000e-04\n",
      "Epoch 10/50\n",
      "4337/4337 [==============================] - ETA: 0s - loss: 0.2163 - accuracy: 0.9109\n",
      "Epoch 10: saving model to /kaggle/output\n",
      "4337/4337 [==============================] - 154s 36ms/step - loss: 0.2163 - accuracy: 0.9109 - val_loss: 0.1874 - val_accuracy: 0.9220 - lr: 1.0000e-04\n",
      "Epoch 11/50\n",
      "4336/4337 [============================>.] - ETA: 0s - loss: 0.1929 - accuracy: 0.9218\n",
      "Epoch 11: saving model to /kaggle/output\n",
      "4337/4337 [==============================] - 155s 36ms/step - loss: 0.1929 - accuracy: 0.9218 - val_loss: 0.1678 - val_accuracy: 0.9375 - lr: 1.0000e-04\n",
      "Epoch 12/50\n",
      "4337/4337 [==============================] - ETA: 0s - loss: 0.1664 - accuracy: 0.9334\n",
      "Epoch 12: saving model to /kaggle/output\n",
      "4337/4337 [==============================] - 155s 36ms/step - loss: 0.1664 - accuracy: 0.9334 - val_loss: 0.1338 - val_accuracy: 0.9492 - lr: 1.0000e-04\n",
      "Epoch 13/50\n",
      "4336/4337 [============================>.] - ETA: 0s - loss: 0.1431 - accuracy: 0.9436\n",
      "Epoch 13: saving model to /kaggle/output\n",
      "4337/4337 [==============================] - 155s 36ms/step - loss: 0.1431 - accuracy: 0.9437 - val_loss: 0.1131 - val_accuracy: 0.9581 - lr: 1.0000e-04\n",
      "Epoch 14/50\n",
      "4337/4337 [==============================] - ETA: 0s - loss: 0.1195 - accuracy: 0.9539\n",
      "Epoch 14: saving model to /kaggle/output\n",
      "4337/4337 [==============================] - 156s 36ms/step - loss: 0.1195 - accuracy: 0.9539 - val_loss: 0.0981 - val_accuracy: 0.9629 - lr: 1.0000e-04\n",
      "Epoch 15/50\n",
      "4336/4337 [============================>.] - ETA: 0s - loss: 0.0970 - accuracy: 0.9636\n",
      "Epoch 15: saving model to /kaggle/output\n",
      "4337/4337 [==============================] - 155s 36ms/step - loss: 0.0970 - accuracy: 0.9637 - val_loss: 0.0811 - val_accuracy: 0.9673 - lr: 1.0000e-04\n",
      "Epoch 16/50\n",
      "4337/4337 [==============================] - ETA: 0s - loss: 0.0798 - accuracy: 0.9708\n",
      "Epoch 16: saving model to /kaggle/output\n",
      "4337/4337 [==============================] - 156s 36ms/step - loss: 0.0798 - accuracy: 0.9708 - val_loss: 0.0516 - val_accuracy: 0.9839 - lr: 1.0000e-04\n",
      "Epoch 17/50\n",
      "4336/4337 [============================>.] - ETA: 0s - loss: 0.0644 - accuracy: 0.9770\n",
      "Epoch 17: saving model to /kaggle/output\n",
      "4337/4337 [==============================] - 153s 35ms/step - loss: 0.0644 - accuracy: 0.9770 - val_loss: 0.0421 - val_accuracy: 0.9873 - lr: 1.0000e-04\n",
      "Epoch 18/50\n",
      "4337/4337 [==============================] - ETA: 0s - loss: 0.0550 - accuracy: 0.9804\n",
      "Epoch 18: saving model to /kaggle/output\n",
      "4337/4337 [==============================] - 154s 36ms/step - loss: 0.0550 - accuracy: 0.9804 - val_loss: 0.0425 - val_accuracy: 0.9871 - lr: 1.0000e-04\n",
      "Epoch 19/50\n",
      "4336/4337 [============================>.] - ETA: 0s - loss: 0.0464 - accuracy: 0.9836\n",
      "Epoch 19: saving model to /kaggle/output\n",
      "4337/4337 [==============================] - 153s 35ms/step - loss: 0.0464 - accuracy: 0.9836 - val_loss: 0.0455 - val_accuracy: 0.9850 - lr: 1.0000e-04\n",
      "Epoch 20/50\n",
      "4337/4337 [==============================] - ETA: 0s - loss: 0.0404 - accuracy: 0.9861\n",
      "Epoch 20: saving model to /kaggle/output\n",
      "4337/4337 [==============================] - 155s 36ms/step - loss: 0.0404 - accuracy: 0.9861 - val_loss: 0.0319 - val_accuracy: 0.9894 - lr: 1.0000e-04\n",
      "Epoch 21/50\n",
      "4336/4337 [============================>.] - ETA: 0s - loss: 0.0365 - accuracy: 0.9874\n",
      "Epoch 21: saving model to /kaggle/output\n",
      "4337/4337 [==============================] - 154s 35ms/step - loss: 0.0365 - accuracy: 0.9874 - val_loss: 0.0210 - val_accuracy: 0.9940 - lr: 1.0000e-04\n",
      "Epoch 22/50\n",
      "4337/4337 [==============================] - ETA: 0s - loss: 0.0324 - accuracy: 0.9891\n",
      "Epoch 22: saving model to /kaggle/output\n",
      "4337/4337 [==============================] - 154s 35ms/step - loss: 0.0324 - accuracy: 0.9891 - val_loss: 0.0206 - val_accuracy: 0.9938 - lr: 1.0000e-04\n",
      "Epoch 23/50\n",
      "4336/4337 [============================>.] - ETA: 0s - loss: 0.0308 - accuracy: 0.9896\n",
      "Epoch 23: saving model to /kaggle/output\n",
      "4337/4337 [==============================] - 154s 36ms/step - loss: 0.0308 - accuracy: 0.9896 - val_loss: 0.0137 - val_accuracy: 0.9964 - lr: 1.0000e-04\n",
      "Epoch 24/50\n",
      "4337/4337 [==============================] - ETA: 0s - loss: 0.0280 - accuracy: 0.9905\n",
      "Epoch 24: saving model to /kaggle/output\n",
      "4337/4337 [==============================] - 153s 35ms/step - loss: 0.0280 - accuracy: 0.9905 - val_loss: 0.0255 - val_accuracy: 0.9919 - lr: 1.0000e-04\n",
      "Epoch 25/50\n",
      "4336/4337 [============================>.] - ETA: 0s - loss: 0.0248 - accuracy: 0.9913\n",
      "Epoch 25: saving model to /kaggle/output\n",
      "4337/4337 [==============================] - 155s 36ms/step - loss: 0.0248 - accuracy: 0.9913 - val_loss: 0.0184 - val_accuracy: 0.9948 - lr: 1.0000e-04\n",
      "Epoch 26/50\n",
      "4336/4337 [============================>.] - ETA: 0s - loss: 0.0240 - accuracy: 0.9920\n",
      "Epoch 26: saving model to /kaggle/output\n",
      "4337/4337 [==============================] - 154s 35ms/step - loss: 0.0240 - accuracy: 0.9920 - val_loss: 0.0241 - val_accuracy: 0.9916 - lr: 1.0000e-04\n",
      "Epoch 27/50\n",
      "4337/4337 [==============================] - ETA: 0s - loss: 0.0229 - accuracy: 0.9921\n",
      "Epoch 27: saving model to /kaggle/output\n",
      "4337/4337 [==============================] - 155s 36ms/step - loss: 0.0229 - accuracy: 0.9921 - val_loss: 0.0122 - val_accuracy: 0.9964 - lr: 1.0000e-04\n",
      "Epoch 28/50\n",
      "4336/4337 [============================>.] - ETA: 0s - loss: 0.0218 - accuracy: 0.9927\n",
      "Epoch 28: saving model to /kaggle/output\n",
      "4337/4337 [==============================] - 154s 36ms/step - loss: 0.0218 - accuracy: 0.9927 - val_loss: 0.0139 - val_accuracy: 0.9955 - lr: 1.0000e-04\n",
      "Epoch 29/50\n",
      "4336/4337 [============================>.] - ETA: 0s - loss: 0.0216 - accuracy: 0.9926\n",
      "Epoch 29: saving model to /kaggle/output\n",
      "4337/4337 [==============================] - 156s 36ms/step - loss: 0.0216 - accuracy: 0.9926 - val_loss: 0.0064 - val_accuracy: 0.9985 - lr: 1.0000e-04\n",
      "Epoch 30/50\n",
      "4336/4337 [============================>.] - ETA: 0s - loss: 0.0192 - accuracy: 0.9935\n",
      "Epoch 30: saving model to /kaggle/output\n",
      "4337/4337 [==============================] - 155s 36ms/step - loss: 0.0192 - accuracy: 0.9935 - val_loss: 0.0157 - val_accuracy: 0.9948 - lr: 1.0000e-04\n",
      "Epoch 31/50\n",
      "4336/4337 [============================>.] - ETA: 0s - loss: 0.0198 - accuracy: 0.9932\n",
      "Epoch 31: saving model to /kaggle/output\n",
      "4337/4337 [==============================] - 156s 36ms/step - loss: 0.0198 - accuracy: 0.9932 - val_loss: 0.0132 - val_accuracy: 0.9961 - lr: 1.0000e-04\n",
      "Epoch 32/50\n",
      "4336/4337 [============================>.] - ETA: 0s - loss: 0.0177 - accuracy: 0.9941\n",
      "Epoch 32: saving model to /kaggle/output\n",
      "4337/4337 [==============================] - 154s 35ms/step - loss: 0.0177 - accuracy: 0.9941 - val_loss: 0.0090 - val_accuracy: 0.9971 - lr: 1.0000e-04\n",
      "Epoch 33/50\n",
      "4337/4337 [==============================] - ETA: 0s - loss: 0.0175 - accuracy: 0.9942\n",
      "Epoch 33: saving model to /kaggle/output\n",
      "4337/4337 [==============================] - 155s 36ms/step - loss: 0.0175 - accuracy: 0.9942 - val_loss: 0.0073 - val_accuracy: 0.9977 - lr: 1.0000e-04\n",
      "Epoch 34/50\n",
      "4337/4337 [==============================] - ETA: 0s - loss: 0.0174 - accuracy: 0.9943\n",
      "Epoch 34: saving model to /kaggle/output\n",
      "4337/4337 [==============================] - 156s 36ms/step - loss: 0.0174 - accuracy: 0.9943 - val_loss: 0.0147 - val_accuracy: 0.9951 - lr: 1.0000e-04\n",
      "Epoch 35/50\n",
      "4337/4337 [==============================] - ETA: 0s - loss: 0.0168 - accuracy: 0.9944\n",
      "Epoch 35: saving model to /kaggle/output\n",
      "4337/4337 [==============================] - 155s 36ms/step - loss: 0.0168 - accuracy: 0.9944 - val_loss: 0.0289 - val_accuracy: 0.9894 - lr: 1.0000e-04\n",
      "Epoch 36/50\n",
      "4336/4337 [============================>.] - ETA: 0s - loss: 0.0167 - accuracy: 0.9944\n",
      "Epoch 36: saving model to /kaggle/output\n",
      "4337/4337 [==============================] - 153s 35ms/step - loss: 0.0167 - accuracy: 0.9944 - val_loss: 0.0118 - val_accuracy: 0.9962 - lr: 1.0000e-04\n",
      "Epoch 37/50\n",
      "4337/4337 [==============================] - ETA: 0s - loss: 0.0154 - accuracy: 0.9947\n",
      "Epoch 37: saving model to /kaggle/output\n",
      "4337/4337 [==============================] - 154s 36ms/step - loss: 0.0154 - accuracy: 0.9947 - val_loss: 0.0191 - val_accuracy: 0.9937 - lr: 1.0000e-04\n",
      "Epoch 38/50\n",
      "4337/4337 [==============================] - ETA: 0s - loss: 0.0154 - accuracy: 0.9949\n",
      "Epoch 38: saving model to /kaggle/output\n",
      "4337/4337 [==============================] - 155s 36ms/step - loss: 0.0154 - accuracy: 0.9949 - val_loss: 0.0080 - val_accuracy: 0.9974 - lr: 1.0000e-04\n",
      "Epoch 39/50\n",
      "4337/4337 [==============================] - ETA: 0s - loss: 0.0148 - accuracy: 0.9952\n",
      "Epoch 39: ReduceLROnPlateau reducing learning rate to 9.999999747378752e-06.\n",
      "\n",
      "Epoch 39: saving model to /kaggle/output\n",
      "4337/4337 [==============================] - 156s 36ms/step - loss: 0.0148 - accuracy: 0.9952 - val_loss: 0.0115 - val_accuracy: 0.9959 - lr: 1.0000e-04\n",
      "Epoch 40/50\n",
      "4336/4337 [============================>.] - ETA: 0s - loss: 0.0019 - accuracy: 0.9996\n",
      "Epoch 40: saving model to /kaggle/output\n",
      "4337/4337 [==============================] - 157s 36ms/step - loss: 0.0019 - accuracy: 0.9996 - val_loss: 5.8595e-04 - val_accuracy: 1.0000 - lr: 1.0000e-05\n",
      "Epoch 41/50\n",
      "4337/4337 [==============================] - ETA: 0s - loss: 6.8122e-04 - accuracy: 1.0000\n",
      "Epoch 41: saving model to /kaggle/output\n",
      "4337/4337 [==============================] - 158s 36ms/step - loss: 6.8122e-04 - accuracy: 1.0000 - val_loss: 2.8030e-04 - val_accuracy: 1.0000 - lr: 1.0000e-05\n",
      "Epoch 42/50\n",
      "4336/4337 [============================>.] - ETA: 0s - loss: 3.4112e-04 - accuracy: 1.0000\n",
      "Epoch 42: saving model to /kaggle/output\n",
      "4337/4337 [==============================] - 154s 36ms/step - loss: 3.4108e-04 - accuracy: 1.0000 - val_loss: 2.6509e-04 - val_accuracy: 1.0000 - lr: 1.0000e-05\n",
      "Epoch 43/50\n",
      "4337/4337 [==============================] - ETA: 0s - loss: 2.0177e-04 - accuracy: 1.0000\n",
      "Epoch 43: saving model to /kaggle/output\n",
      "4337/4337 [==============================] - 157s 36ms/step - loss: 2.0177e-04 - accuracy: 1.0000 - val_loss: 1.1531e-04 - val_accuracy: 1.0000 - lr: 1.0000e-05\n",
      "Epoch 44/50\n",
      "4336/4337 [============================>.] - ETA: 0s - loss: 1.3794e-04 - accuracy: 1.0000\n",
      "Epoch 44: saving model to /kaggle/output\n",
      "4337/4337 [==============================] - 155s 36ms/step - loss: 1.3791e-04 - accuracy: 1.0000 - val_loss: 5.2743e-05 - val_accuracy: 1.0000 - lr: 1.0000e-05\n",
      "Epoch 45/50\n",
      "4336/4337 [============================>.] - ETA: 0s - loss: 9.3125e-05 - accuracy: 1.0000\n",
      "Epoch 45: saving model to /kaggle/output\n",
      "4337/4337 [==============================] - 157s 36ms/step - loss: 9.3168e-05 - accuracy: 1.0000 - val_loss: 1.6142e-04 - val_accuracy: 1.0000 - lr: 1.0000e-05\n",
      "Epoch 46/50\n",
      "4337/4337 [==============================] - ETA: 0s - loss: 1.1076e-04 - accuracy: 1.0000\n",
      "Epoch 46: saving model to /kaggle/output\n",
      "4337/4337 [==============================] - 155s 36ms/step - loss: 1.1076e-04 - accuracy: 1.0000 - val_loss: 2.7240e-05 - val_accuracy: 1.0000 - lr: 1.0000e-05\n",
      "Epoch 47/50\n",
      "4336/4337 [============================>.] - ETA: 0s - loss: 7.2315e-05 - accuracy: 1.0000\n",
      "Epoch 47: saving model to /kaggle/output\n",
      "4337/4337 [==============================] - 156s 36ms/step - loss: 7.2311e-05 - accuracy: 1.0000 - val_loss: 9.8504e-05 - val_accuracy: 1.0000 - lr: 1.0000e-05\n",
      "Epoch 48/50\n",
      "4336/4337 [============================>.] - ETA: 0s - loss: 3.9296e-05 - accuracy: 1.0000\n",
      "Epoch 48: saving model to /kaggle/output\n",
      "4337/4337 [==============================] - 157s 36ms/step - loss: 3.9289e-05 - accuracy: 1.0000 - val_loss: 1.4693e-05 - val_accuracy: 1.0000 - lr: 1.0000e-05\n",
      "Epoch 49/50\n",
      "4336/4337 [============================>.] - ETA: 0s - loss: 5.6672e-05 - accuracy: 1.0000\n",
      "Epoch 49: saving model to /kaggle/output\n",
      "4337/4337 [==============================] - 155s 36ms/step - loss: 5.6664e-05 - accuracy: 1.0000 - val_loss: 2.0446e-05 - val_accuracy: 1.0000 - lr: 1.0000e-05\n",
      "Epoch 50/50\n",
      "4336/4337 [============================>.] - ETA: 0s - loss: 2.4639e-05 - accuracy: 1.0000\n",
      "Epoch 50: saving model to /kaggle/output\n",
      "4337/4337 [==============================] - 153s 35ms/step - loss: 2.4635e-05 - accuracy: 1.0000 - val_loss: 9.0972e-06 - val_accuracy: 1.0000 - lr: 1.0000e-05\n"
     ]
    }
   ],
   "source": [
    "model,callbacks=create_model((50,50,3))\n",
    "model.summary()\n",
    "#Fit model\n",
    "history = model.fit(\n",
    "      train_generator,\n",
    "      epochs=50,\n",
    "      verbose=1,\n",
    "      validation_data = validation_generator,callbacks=callbacks)"
   ]
  },
  {
   "cell_type": "code",
   "execution_count": 12,
   "id": "61e5dc4d",
   "metadata": {
    "execution": {
     "iopub.execute_input": "2024-02-28T08:52:00.216680Z",
     "iopub.status.busy": "2024-02-28T08:52:00.215872Z",
     "iopub.status.idle": "2024-02-28T08:52:00.476893Z",
     "shell.execute_reply": "2024-02-28T08:52:00.475967Z"
    },
    "papermill": {
     "duration": 10.031438,
     "end_time": "2024-02-28T08:52:00.479356",
     "exception": false,
     "start_time": "2024-02-28T08:51:50.447918",
     "status": "completed"
    },
    "tags": []
   },
   "outputs": [
    {
     "data": {
      "image/png": "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",
      "text/plain": [
       "<Figure size 640x480 with 1 Axes>"
      ]
     },
     "metadata": {},
     "output_type": "display_data"
    }
   ],
   "source": [
    "import matplotlib.pyplot as plt\n",
    "\n",
    "acc = history.history['accuracy']\n",
    "val_acc = history.history['val_accuracy']\n",
    "loss = history.history['loss']\n",
    "val_loss = history.history['val_loss']\n",
    "\n",
    "epochs = range(len(acc))\n",
    "plt.plot(epochs, acc, 'r', label='Training accuracy', markersize=5)\n",
    "plt.plot(epochs, val_acc, 'b', label='Validation accuracy', markersize=5)\n",
    "plt.grid(True)\n",
    "plt.xlabel('Epochs', fontsize=12, fontweight='bold')  # Bold and increase font size for x-axis label\n",
    "plt.ylabel('Accuracy', fontsize=12, fontweight='bold')  # Bold and increase font size for y-axis label\n",
    "plt.legend(loc='lower right')\n",
    "plt.show()\n",
    "\n",
    "\n",
    "\n",
    "\n"
   ]
  },
  {
   "cell_type": "code",
   "execution_count": 13,
   "id": "2a0c7a40",
   "metadata": {
    "execution": {
     "iopub.execute_input": "2024-02-28T08:52:20.187845Z",
     "iopub.status.busy": "2024-02-28T08:52:20.186935Z",
     "iopub.status.idle": "2024-02-28T08:52:20.430116Z",
     "shell.execute_reply": "2024-02-28T08:52:20.429048Z"
    },
    "papermill": {
     "duration": 10.172672,
     "end_time": "2024-02-28T08:52:20.432351",
     "exception": false,
     "start_time": "2024-02-28T08:52:10.259679",
     "status": "completed"
    },
    "tags": []
   },
   "outputs": [
    {
     "data": {
      "image/png": "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",
      "text/plain": [
       "<Figure size 640x480 with 1 Axes>"
      ]
     },
     "metadata": {},
     "output_type": "display_data"
    }
   ],
   "source": [
    "plt.plot(epochs, loss, 'r', label='Training loss', markersize=5)  # Increase markersize\n",
    "plt.plot(epochs, val_loss, 'b', label='Validation loss', markersize=5)  # Increase markersize\n",
    "plt.xlabel('Epochs', fontsize=12, fontweight='bold')  # Bold and increase font size for x-axis label\n",
    "plt.ylabel('Accuracy', fontsize=12, fontweight='bold')  # Bold and increase font size for y-axis label\n",
    "plt.grid(True)  # Turn on grid\n",
    "plt.legend(loc=0)\n",
    "plt.show()\n"
   ]
  },
  {
   "cell_type": "code",
   "execution_count": 14,
   "id": "de640a29",
   "metadata": {
    "execution": {
     "iopub.execute_input": "2024-02-28T08:52:40.409365Z",
     "iopub.status.busy": "2024-02-28T08:52:40.408655Z",
     "iopub.status.idle": "2024-02-28T08:53:05.416441Z",
     "shell.execute_reply": "2024-02-28T08:53:05.415236Z"
    },
    "papermill": {
     "duration": 35.028795,
     "end_time": "2024-02-28T08:53:05.419242",
     "exception": false,
     "start_time": "2024-02-28T08:52:30.390447",
     "status": "completed"
    },
    "tags": []
   },
   "outputs": [
    {
     "name": "stdout",
     "output_type": "stream",
     "text": [
      "868/868 [==============================] - 25s 29ms/step - loss: 9.0972e-06 - accuracy: 1.0000\n",
      "Accuracy: 100.00%\n"
     ]
    }
   ],
   "source": [
    "# Evaluate the model using the test set\n",
    "loss, accuracy = model.evaluate(validation_generator)\n",
    "\n",
    "# Print the accuracy\n",
    "print(\"Accuracy: {:.2f}%\".format(accuracy * 100))\n"
   ]
  },
  {
   "cell_type": "code",
   "execution_count": 15,
   "id": "1cf5b700",
   "metadata": {
    "execution": {
     "iopub.execute_input": "2024-02-28T08:53:25.278721Z",
     "iopub.status.busy": "2024-02-28T08:53:25.277820Z",
     "iopub.status.idle": "2024-02-28T08:53:50.585754Z",
     "shell.execute_reply": "2024-02-28T08:53:50.584517Z"
    },
    "papermill": {
     "duration": 35.353429,
     "end_time": "2024-02-28T08:53:50.588398",
     "exception": false,
     "start_time": "2024-02-28T08:53:15.234969",
     "status": "completed"
    },
    "tags": []
   },
   "outputs": [
    {
     "name": "stdout",
     "output_type": "stream",
     "text": [
      "868/868 [==============================] - 25s 29ms/step - loss: 9.0972e-06 - accuracy: 1.0000\n"
     ]
    },
    {
     "data": {
      "text/plain": [
       "[9.097166184801608e-06, 1.0]"
      ]
     },
     "execution_count": 15,
     "metadata": {},
     "output_type": "execute_result"
    }
   ],
   "source": [
    "model.evaluate(validation_generator)"
   ]
  },
  {
   "cell_type": "code",
   "execution_count": 16,
   "id": "0a680248",
   "metadata": {
    "execution": {
     "iopub.execute_input": "2024-02-28T08:54:10.219968Z",
     "iopub.status.busy": "2024-02-28T08:54:10.219036Z",
     "iopub.status.idle": "2024-02-28T08:54:35.484341Z",
     "shell.execute_reply": "2024-02-28T08:54:35.483357Z"
    },
    "papermill": {
     "duration": 34.908907,
     "end_time": "2024-02-28T08:54:35.486790",
     "exception": false,
     "start_time": "2024-02-28T08:54:00.577883",
     "status": "completed"
    },
    "tags": []
   },
   "outputs": [
    {
     "name": "stdout",
     "output_type": "stream",
     "text": [
      "868/868 [==============================] - 25s 28ms/step\n"
     ]
    }
   ],
   "source": [
    "predict_data = model.predict(validation_generator)\n",
    "predict_labels = np.argmax(predict_data, axis=1)"
   ]
  }
 ],
 "metadata": {
  "kaggle": {
   "accelerator": "gpu",
   "dataSources": [
    {
     "datasetId": 7415,
     "sourceId": 10564,
     "sourceType": "datasetVersion"
    }
   ],
   "dockerImageVersionId": 30648,
   "isGpuEnabled": true,
   "isInternetEnabled": true,
   "language": "python",
   "sourceType": "notebook"
  },
  "kernelspec": {
   "display_name": "Python 3",
   "language": "python",
   "name": "python3"
  },
  "language_info": {
   "codemirror_mode": {
    "name": "ipython",
    "version": 3
   },
   "file_extension": ".py",
   "mimetype": "text/x-python",
   "name": "python",
   "nbconvert_exporter": "python",
   "pygments_lexer": "ipython3",
   "version": "3.10.13"
  },
  "papermill": {
   "default_parameters": {},
   "duration": 10057.520506,
   "end_time": "2024-02-28T08:54:48.281060",
   "environment_variables": {},
   "exception": null,
   "input_path": "__notebook__.ipynb",
   "output_path": "__notebook__.ipynb",
   "parameters": {},
   "start_time": "2024-02-28T06:07:10.760554",
   "version": "2.5.0"
  }
 },
 "nbformat": 4,
 "nbformat_minor": 5
}
